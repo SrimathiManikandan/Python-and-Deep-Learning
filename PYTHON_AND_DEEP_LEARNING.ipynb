{
  "nbformat": 4,
  "nbformat_minor": 0,
  "metadata": {
    "colab": {
      "name": "PYTHON AND DEEP LEARNING.ipynb",
      "provenance": [],
      "collapsed_sections": []
    },
    "kernelspec": {
      "name": "python3",
      "display_name": "Python 3"
    },
    "language_info": {
      "name": "python"
    }
  },
  "cells": [
    {
      "cell_type": "markdown",
      "metadata": {
        "id": "ky2giY0Un8Cz"
      },
      "source": [
        "**DEEP NEURAL NETWORK TO PREDICT CANCER AS MELIGNANT OR BENIGN**"
      ]
    },
    {
      "cell_type": "code",
      "metadata": {
        "id": "aYf9sSwunP6i"
      },
      "source": [
        "## IMPORTING DATASET\n",
        "from sklearn.datasets import load_breast_cancer\n",
        "Data = load_breast_cancer()"
      ],
      "execution_count": 5,
      "outputs": []
    },
    {
      "cell_type": "code",
      "metadata": {
        "id": "LrtVSTPGpp2c"
      },
      "source": [
        "print(Data)"
      ],
      "execution_count": null,
      "outputs": []
    },
    {
      "cell_type": "markdown",
      "metadata": {
        "id": "FAHRCcw3pvwc"
      },
      "source": [
        ".._Breast_cancer_dataset:\n",
        "Breast cancer wisconsin(diagnostic) dataset\n",
        "------------------------------------------------\n",
        "**Data Set Characteriestics:**\n",
        "    :Number of Instances: 569\n",
        "    \n",
        "    :number of Attributes: 30 numeric, predictive attributes and the class\n",
        "\n",
        "    :Attribute Information:\n",
        "          -radius(mean of distances from center to points on the perimeter)\n",
        "          -texture(standard deviation of gray-scale values)\n",
        "          -perimeter\n",
        "          -area\n",
        "          -smoothness(local variation in radius lengths)\n",
        "          -compactness (perimeter*2 / area - 1.0)\n",
        "          -concavity (severity of cancave portions of the contour)\n",
        "          -concave points (number of concave portions of he contour)\n",
        "          -symmetry\n",
        "          -fractal dimension (\"coastline approximation\" - 1)\n",
        "          The mean, standard error, and \"worst\" or largest (mean of the three largest values) of these features were computed for each image, resulting in 30 features. For instance, field 3 is Mean Radius, field 13 is Radius SE, field 23 is Worst Radius.\n",
        "          -class:\n",
        "                  -WDBC-Malignant\n",
        "                  -WDBC-Benign\n",
        "    :Summary Statistics:\n",
        "\n",
        "    ************************************************** ****** *******\n",
        "                                                        Min     Max\n",
        "    ************************************************** ****** *******\n",
        "    radius (mean):                                     6.981   28.11\n",
        "    texture (mean):                                    9.71    39.28\n",
        "    perimeter (mean):                                  43.79   138.5\n",
        "    area (mean):                                       143.5   2501.0\n",
        "    smoothness (mean):                                 0.053   0.363\n",
        "    compactness (mean):                                0.019   0.345\n",
        "    concavity(mean):                                   0.0     0.427\n",
        "    concave points(mean):                              0.0     0.201\n",
        "    symmetry (mean):                                   0.106   0.304\n",
        "    fractal dimention(mean):                           0.05    0.007\n",
        "    radius(standard error):                            0.112   2.875\n",
        "    texture (standard error):                          0.36    4.885\n",
        "    perimeter (standard error):                        0.757   21.98\n",
        "    area (standard error):                             0.802   542.2\n",
        "    smoothness (standard error):                       0.002   0.031\n",
        "    compactness (standard error):                      0.002   0.135\n",
        "    concavity (standard error):                        0.0     0.396\n",
        "    concave points (standard error):                   0.0     0.053\n",
        "    symmetry (standard error):                         0.008   0.079\n",
        "    fractial dimision (standard error):                0.001   0.03\n",
        "    radius (worst):                                    7.93    36.04\n",
        "    texture (worst):                                   12.03   49.54\n",
        "    perimeter (worst):                                 50.41   251.2\n",
        "    area (worst):                                      185.2   4254.0\n",
        "    ************************************************* ******* ********\n",
        "      :Missing Attribute Values: None\n",
        "      :Class Distribution: 212 - Malignant, 357 - Benign\n",
        "      :Creator: Dr.William M, Wolberg, W.Mick Street, Olvi L, Mangasarian\n",
        "      :Donor: Mick street\n",
        "      :Date: November 1995\n",
        "  This is a copy of UCI PIL BREAST CANCER WISCONSIN (diagnostic) Datasets.\n",
        "  https://goo.gl/u2vki2\n",
        "\n",
        "  Features arecomputed from a digitized image of a fine needle anpirate (FINA) of a breast mass. They describe characteriestics of the cell nuclei present in the image.\n",
        "\n",
        "separating plane described above was obtained using Multisurface Method- Tree[K.P.Bennett, \"Decision Tree Construction via inear Progscience ramming.\" Proceddings of the 4th Midwest Artificial Intelligens and cognitive science society,pp.97-101,1992], , a classification method which uses linear programming to construct a decision tree. Relevent features were selected using an exhaustive search in the space of 1-4 features and 1-3 separating planes.  \n",
        "\n",
        "The actual linear program used to obtain the separating plane in the 3-dimensional space is that described [K>P>Bennett and 0,l.Mangasarian: \"Robust Linear Programming Discimination of Two Linearly Inseparable Sets\", Optimization methods and software 1, 1992, 23-34].\n",
        "\n",
        "This database is also available through the UM CS ftp server:\n",
        "\n",
        "ftp ftp.cs.wisc.edu\n",
        "cd math-prog/cpo-dataset/machine-learn/WDBC/\n",
        "\n",
        ".. topic: References\n",
        "\n",
        "    -W.R.Street, W.H.Wolberg and 0.1. Mangasarian, Nuclear feature extraction for breast tumor diagnosis. TS8T/SPIT 1993 International symposium on Electronic Imaging; Science and Technology volume 1905, pages 801-870, san jose, CA,1993.\n",
        "    -O.L.Mangasarian,w.r.street ad w.m.wolberg, Breast cancer diagnosis and prognosis via linear programming, Operations Research,43(4), pages 570-577,July-Augest 1995.\n",
        "    W.H.Wolberg,W.H.Street, and O.L. Mangasarian, Machine Learning techniques to diagose breast cancer from fine-needle aspirates. cancer letters 77 (1994) 163-171.\n",
        "    "
      ]
    },
    {
      "cell_type": "code",
      "metadata": {
        "colab": {
          "base_uri": "https://localhost:8080/"
        },
        "id": "Ma7QczV-_S2e",
        "outputId": "35c17964-46b1-42b9-d8ec-1211d34b113d"
      },
      "source": [
        "features = Data.data\n",
        "target = Data.target\n",
        "\n",
        "print(features.shape)\n",
        "print(target.shape)"
      ],
      "execution_count": 9,
      "outputs": [
        {
          "output_type": "stream",
          "text": [
            "(569, 30)\n",
            "(569,)\n"
          ],
          "name": "stdout"
        }
      ]
    },
    {
      "cell_type": "code",
      "metadata": {
        "colab": {
          "base_uri": "https://localhost:8080/"
        },
        "id": "gLogFr_kFZ_f",
        "outputId": "5f18e6bd-dde5-4033-8e4d-04aa17a926cb"
      },
      "source": [
        "from sklearn.model_selection import train_test_split\n",
        "\n",
        "X_train, X_test, y_train, y_test = train_test_split(features, target, test_size=0.2)\n",
        "\n",
        "print(X_train.shape)\n",
        "print(y_train.shape)\n",
        "print(X_test.shape)\n",
        "print(y_test.shape)"
      ],
      "execution_count": 21,
      "outputs": [
        {
          "output_type": "stream",
          "text": [
            "(455, 30)\n",
            "(455,)\n",
            "(114, 30)\n",
            "(114,)\n"
          ],
          "name": "stdout"
        }
      ]
    },
    {
      "cell_type": "code",
      "metadata": {
        "id": "J7YZKzYNKHSm"
      },
      "source": [
        "from keras.models import Sequential\n",
        "from keras.layers import Dense"
      ],
      "execution_count": 23,
      "outputs": []
    },
    {
      "cell_type": "code",
      "metadata": {
        "id": "LCY0st0NKjHB"
      },
      "source": [
        "model = Sequential()\n",
        "model.add(Dense(32, input_dim = 30, activation= 'relu'))  ## hidden layer 1\n",
        "model.add(Dense(64, activation='relu'))  ## hidden layer 2\n",
        "model.add(Dense(1,activation='sigmoid'))"
      ],
      "execution_count": 24,
      "outputs": []
    },
    {
      "cell_type": "code",
      "metadata": {
        "id": "jRmCzKi1LVAT"
      },
      "source": [
        "model.compile(loss='binary_crossentropy', optimizer='adam', metrics=['accuracy'])"
      ],
      "execution_count": 27,
      "outputs": []
    },
    {
      "cell_type": "code",
      "metadata": {
        "colab": {
          "base_uri": "https://localhost:8080/"
        },
        "id": "8f4HwqepMyw-",
        "outputId": "ea31de84-6a07-4601-e559-50cbdf0d012e"
      },
      "source": [
        "model.summary()"
      ],
      "execution_count": 28,
      "outputs": [
        {
          "output_type": "stream",
          "text": [
            "Model: \"sequential\"\n",
            "_________________________________________________________________\n",
            "Layer (type)                 Output Shape              Param #   \n",
            "=================================================================\n",
            "dense (Dense)                (None, 32)                992       \n",
            "_________________________________________________________________\n",
            "dense_1 (Dense)              (None, 64)                2112      \n",
            "_________________________________________________________________\n",
            "dense_2 (Dense)              (None, 1)                 65        \n",
            "=================================================================\n",
            "Total params: 3,169\n",
            "Trainable params: 3,169\n",
            "Non-trainable params: 0\n",
            "_________________________________________________________________\n"
          ],
          "name": "stdout"
        }
      ]
    },
    {
      "cell_type": "code",
      "metadata": {
        "colab": {
          "base_uri": "https://localhost:8080/"
        },
        "id": "lB8OGMp7M6iX",
        "outputId": "4e218f16-41b3-4669-b4f1-1271dd3bfa03"
      },
      "source": [
        "model.fit(X_train, y_train, epochs=10, batch_size=32)"
      ],
      "execution_count": 29,
      "outputs": [
        {
          "output_type": "stream",
          "text": [
            "Epoch 1/10\n",
            "15/15 [==============================] - 14s 2ms/step - loss: 15.6155 - accuracy: 0.4397\n",
            "Epoch 2/10\n",
            "15/15 [==============================] - 0s 2ms/step - loss: 4.2169 - accuracy: 0.5099\n",
            "Epoch 3/10\n",
            "15/15 [==============================] - 0s 2ms/step - loss: 0.5041 - accuracy: 0.8508\n",
            "Epoch 4/10\n",
            "15/15 [==============================] - 0s 2ms/step - loss: 0.2961 - accuracy: 0.8932\n",
            "Epoch 5/10\n",
            "15/15 [==============================] - 0s 2ms/step - loss: 0.3457 - accuracy: 0.8778\n",
            "Epoch 6/10\n",
            "15/15 [==============================] - 0s 2ms/step - loss: 0.2311 - accuracy: 0.9112\n",
            "Epoch 7/10\n",
            "15/15 [==============================] - 0s 2ms/step - loss: 0.2662 - accuracy: 0.9069\n",
            "Epoch 8/10\n",
            "15/15 [==============================] - 0s 2ms/step - loss: 0.2590 - accuracy: 0.8849\n",
            "Epoch 9/10\n",
            "15/15 [==============================] - 0s 2ms/step - loss: 0.2689 - accuracy: 0.9003\n",
            "Epoch 10/10\n",
            "15/15 [==============================] - 0s 2ms/step - loss: 0.2417 - accuracy: 0.9127\n"
          ],
          "name": "stdout"
        },
        {
          "output_type": "execute_result",
          "data": {
            "text/plain": [
              "<keras.callbacks.History at 0x7fa3b09dee50>"
            ]
          },
          "metadata": {
            "tags": []
          },
          "execution_count": 29
        }
      ]
    },
    {
      "cell_type": "code",
      "metadata": {
        "colab": {
          "base_uri": "https://localhost:8080/"
        },
        "id": "dckdgrpiNyYM",
        "outputId": "c23bd8e6-d882-4d99-8097-1706cf691c60"
      },
      "source": [
        "scores = model.evaluate(X_test, y_test)\n",
        "print(scores)   ## returns loss and accuracy"
      ],
      "execution_count": 30,
      "outputs": [
        {
          "output_type": "stream",
          "text": [
            "4/4 [==============================] - 1s 3ms/step - loss: 0.3205 - accuracy: 0.8684\n",
            "[0.3204512298107147, 0.8684210777282715]\n"
          ],
          "name": "stdout"
        }
      ]
    },
    {
      "cell_type": "code",
      "metadata": {
        "colab": {
          "base_uri": "https://localhost:8080/"
        },
        "id": "eDe4OgMjPpeV",
        "outputId": "92b2e350-3a97-419f-dd60-c35512a3f7ff"
      },
      "source": [
        "predictions = model.predict(X_test)\n",
        "lable=[]\n",
        "for pred in predictions:\n",
        "    if pred>=0.5:\n",
        "      print(\"Malignent\")\n",
        "    else:\n",
        "      print(\"Benign\")"
      ],
      "execution_count": 32,
      "outputs": [
        {
          "output_type": "stream",
          "text": [
            "Benign\n",
            "Malignent\n",
            "Malignent\n",
            "Malignent\n",
            "Malignent\n",
            "Malignent\n",
            "Benign\n",
            "Benign\n",
            "Malignent\n",
            "Malignent\n",
            "Benign\n",
            "Malignent\n",
            "Benign\n",
            "Malignent\n",
            "Malignent\n",
            "Malignent\n",
            "Malignent\n",
            "Malignent\n",
            "Malignent\n",
            "Malignent\n",
            "Malignent\n",
            "Benign\n",
            "Malignent\n",
            "Malignent\n",
            "Malignent\n",
            "Malignent\n",
            "Malignent\n",
            "Malignent\n",
            "Malignent\n",
            "Malignent\n",
            "Malignent\n",
            "Malignent\n",
            "Benign\n",
            "Malignent\n",
            "Malignent\n",
            "Malignent\n",
            "Malignent\n",
            "Malignent\n",
            "Malignent\n",
            "Benign\n",
            "Malignent\n",
            "Benign\n",
            "Malignent\n",
            "Malignent\n",
            "Malignent\n",
            "Malignent\n",
            "Benign\n",
            "Malignent\n",
            "Malignent\n",
            "Benign\n",
            "Benign\n",
            "Benign\n",
            "Malignent\n",
            "Benign\n",
            "Benign\n",
            "Malignent\n",
            "Malignent\n",
            "Malignent\n",
            "Malignent\n",
            "Malignent\n",
            "Malignent\n",
            "Benign\n",
            "Malignent\n",
            "Benign\n",
            "Benign\n",
            "Malignent\n",
            "Benign\n",
            "Malignent\n",
            "Malignent\n",
            "Malignent\n",
            "Malignent\n",
            "Benign\n",
            "Benign\n",
            "Malignent\n",
            "Benign\n",
            "Malignent\n",
            "Malignent\n",
            "Malignent\n",
            "Malignent\n",
            "Malignent\n",
            "Benign\n",
            "Malignent\n",
            "Malignent\n",
            "Benign\n",
            "Malignent\n",
            "Benign\n",
            "Malignent\n",
            "Malignent\n",
            "Malignent\n",
            "Malignent\n",
            "Malignent\n",
            "Malignent\n",
            "Malignent\n",
            "Malignent\n",
            "Malignent\n",
            "Benign\n",
            "Malignent\n",
            "Malignent\n",
            "Malignent\n",
            "Malignent\n",
            "Malignent\n",
            "Malignent\n",
            "Malignent\n",
            "Malignent\n",
            "Malignent\n",
            "Malignent\n",
            "Benign\n",
            "Malignent\n",
            "Malignent\n",
            "Malignent\n",
            "Malignent\n",
            "Benign\n",
            "Malignent\n",
            "Malignent\n"
          ],
          "name": "stdout"
        }
      ]
    },
    {
      "cell_type": "markdown",
      "metadata": {
        "id": "kHp1Qhmr_x1j"
      },
      "source": [
        ""
      ]
    },
    {
      "cell_type": "markdown",
      "metadata": {
        "id": "wsWgfIYFn6WN"
      },
      "source": [
        ""
      ]
    }
  ]
}